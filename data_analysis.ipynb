{
 "cells": [
  {
   "cell_type": "code",
   "execution_count": 4,
   "outputs": [
    {
     "ename": "KeyError",
     "evalue": "'level'",
     "output_type": "error",
     "traceback": [
      "\u001B[1;31m---------------------------------------------------------------------------\u001B[0m",
      "\u001B[1;31mKeyError\u001B[0m                                  Traceback (most recent call last)",
      "File \u001B[1;32m~\\repos\\JobsDataAnalysis\\venv\\lib\\site-packages\\pandas\\core\\indexes\\base.py:3621\u001B[0m, in \u001B[0;36mIndex.get_loc\u001B[1;34m(self, key, method, tolerance)\u001B[0m\n\u001B[0;32m   3620\u001B[0m \u001B[38;5;28;01mtry\u001B[39;00m:\n\u001B[1;32m-> 3621\u001B[0m     \u001B[38;5;28;01mreturn\u001B[39;00m \u001B[38;5;28;43mself\u001B[39;49m\u001B[38;5;241;43m.\u001B[39;49m\u001B[43m_engine\u001B[49m\u001B[38;5;241;43m.\u001B[39;49m\u001B[43mget_loc\u001B[49m\u001B[43m(\u001B[49m\u001B[43mcasted_key\u001B[49m\u001B[43m)\u001B[49m\n\u001B[0;32m   3622\u001B[0m \u001B[38;5;28;01mexcept\u001B[39;00m \u001B[38;5;167;01mKeyError\u001B[39;00m \u001B[38;5;28;01mas\u001B[39;00m err:\n",
      "File \u001B[1;32m~\\repos\\JobsDataAnalysis\\venv\\lib\\site-packages\\pandas\\_libs\\index.pyx:136\u001B[0m, in \u001B[0;36mpandas._libs.index.IndexEngine.get_loc\u001B[1;34m()\u001B[0m\n",
      "File \u001B[1;32m~\\repos\\JobsDataAnalysis\\venv\\lib\\site-packages\\pandas\\_libs\\index.pyx:163\u001B[0m, in \u001B[0;36mpandas._libs.index.IndexEngine.get_loc\u001B[1;34m()\u001B[0m\n",
      "File \u001B[1;32mpandas\\_libs\\hashtable_class_helper.pxi:5198\u001B[0m, in \u001B[0;36mpandas._libs.hashtable.PyObjectHashTable.get_item\u001B[1;34m()\u001B[0m\n",
      "File \u001B[1;32mpandas\\_libs\\hashtable_class_helper.pxi:5206\u001B[0m, in \u001B[0;36mpandas._libs.hashtable.PyObjectHashTable.get_item\u001B[1;34m()\u001B[0m\n",
      "\u001B[1;31mKeyError\u001B[0m: 'level'",
      "\nThe above exception was the direct cause of the following exception:\n",
      "\u001B[1;31mKeyError\u001B[0m                                  Traceback (most recent call last)",
      "Input \u001B[1;32mIn [4]\u001B[0m, in \u001B[0;36m<cell line: 9>\u001B[1;34m()\u001B[0m\n\u001B[0;32m      6\u001B[0m suj_data_loader\u001B[38;5;241m.\u001B[39mload_detail_data()\n\u001B[0;32m      7\u001B[0m data \u001B[38;5;241m=\u001B[39m suj_data_loader\u001B[38;5;241m.\u001B[39mdata\n\u001B[1;32m----> 9\u001B[0m skill_column_expanded \u001B[38;5;241m=\u001B[39m \u001B[43mskill_column_flat\u001B[49m\u001B[43m[\u001B[49m\u001B[38;5;124;43m\"\u001B[39;49m\u001B[38;5;124;43mlevel\u001B[39;49m\u001B[38;5;124;43m\"\u001B[39;49m\u001B[43m]\u001B[49m\u001B[38;5;241m.\u001B[39mapply(pandas\u001B[38;5;241m.\u001B[39mSeries)\n\u001B[0;32m     10\u001B[0m skill_column_flat_merged \u001B[38;5;241m=\u001B[39m skill_column_flat\u001B[38;5;241m.\u001B[39mmerge(right\u001B[38;5;241m=\u001B[39mskill_column_expanded, left_index\u001B[38;5;241m=\u001B[39m\u001B[38;5;28;01mTrue\u001B[39;00m, right_index\u001B[38;5;241m=\u001B[39m\u001B[38;5;28;01mTrue\u001B[39;00m)\n\u001B[0;32m     11\u001B[0m skill_column_flat_merged \u001B[38;5;241m=\u001B[39m skill_column_flat_merged\u001B[38;5;241m.\u001B[39mdrop(columns\u001B[38;5;241m=\u001B[39m[\u001B[38;5;124m\"\u001B[39m\u001B[38;5;124mlevel\u001B[39m\u001B[38;5;124m\"\u001B[39m])\n",
      "File \u001B[1;32m~\\repos\\JobsDataAnalysis\\venv\\lib\\site-packages\\pandas\\core\\frame.py:3505\u001B[0m, in \u001B[0;36mDataFrame.__getitem__\u001B[1;34m(self, key)\u001B[0m\n\u001B[0;32m   3503\u001B[0m \u001B[38;5;28;01mif\u001B[39;00m \u001B[38;5;28mself\u001B[39m\u001B[38;5;241m.\u001B[39mcolumns\u001B[38;5;241m.\u001B[39mnlevels \u001B[38;5;241m>\u001B[39m \u001B[38;5;241m1\u001B[39m:\n\u001B[0;32m   3504\u001B[0m     \u001B[38;5;28;01mreturn\u001B[39;00m \u001B[38;5;28mself\u001B[39m\u001B[38;5;241m.\u001B[39m_getitem_multilevel(key)\n\u001B[1;32m-> 3505\u001B[0m indexer \u001B[38;5;241m=\u001B[39m \u001B[38;5;28;43mself\u001B[39;49m\u001B[38;5;241;43m.\u001B[39;49m\u001B[43mcolumns\u001B[49m\u001B[38;5;241;43m.\u001B[39;49m\u001B[43mget_loc\u001B[49m\u001B[43m(\u001B[49m\u001B[43mkey\u001B[49m\u001B[43m)\u001B[49m\n\u001B[0;32m   3506\u001B[0m \u001B[38;5;28;01mif\u001B[39;00m is_integer(indexer):\n\u001B[0;32m   3507\u001B[0m     indexer \u001B[38;5;241m=\u001B[39m [indexer]\n",
      "File \u001B[1;32m~\\repos\\JobsDataAnalysis\\venv\\lib\\site-packages\\pandas\\core\\indexes\\base.py:3623\u001B[0m, in \u001B[0;36mIndex.get_loc\u001B[1;34m(self, key, method, tolerance)\u001B[0m\n\u001B[0;32m   3621\u001B[0m     \u001B[38;5;28;01mreturn\u001B[39;00m \u001B[38;5;28mself\u001B[39m\u001B[38;5;241m.\u001B[39m_engine\u001B[38;5;241m.\u001B[39mget_loc(casted_key)\n\u001B[0;32m   3622\u001B[0m \u001B[38;5;28;01mexcept\u001B[39;00m \u001B[38;5;167;01mKeyError\u001B[39;00m \u001B[38;5;28;01mas\u001B[39;00m err:\n\u001B[1;32m-> 3623\u001B[0m     \u001B[38;5;28;01mraise\u001B[39;00m \u001B[38;5;167;01mKeyError\u001B[39;00m(key) \u001B[38;5;28;01mfrom\u001B[39;00m \u001B[38;5;21;01merr\u001B[39;00m\n\u001B[0;32m   3624\u001B[0m \u001B[38;5;28;01mexcept\u001B[39;00m \u001B[38;5;167;01mTypeError\u001B[39;00m:\n\u001B[0;32m   3625\u001B[0m     \u001B[38;5;66;03m# If we have a listlike key, _check_indexing_error will raise\u001B[39;00m\n\u001B[0;32m   3626\u001B[0m     \u001B[38;5;66;03m#  InvalidIndexError. Otherwise we fall through and re-raise\u001B[39;00m\n\u001B[0;32m   3627\u001B[0m     \u001B[38;5;66;03m#  the TypeError.\u001B[39;00m\n\u001B[0;32m   3628\u001B[0m     \u001B[38;5;28mself\u001B[39m\u001B[38;5;241m.\u001B[39m_check_indexing_error(key)\n",
      "\u001B[1;31mKeyError\u001B[0m: 'level'"
     ]
    }
   ],
   "source": [
    "import data_loader\n",
    "import pandas\n",
    "import matplotlib.pyplot as plt\n",
    "\n",
    "suj_data_loader = data_loader.StartUpJobsDataLoader()\n",
    "suj_data_loader.load_detail_data()\n",
    "data = suj_data_loader.data\n",
    "\n",
    "skill_column_expanded = data[\"level\"].apply(pandas.Series)\n",
    "skill_column_flat_merged = data.merge(right=skill_column_expanded, left_index=True, right_index=True)\n",
    "skill_column_flat_merged = skill_column_flat_merged.drop(columns=[\"level\"])\n",
    "skill_column_flat_merged = skill_column_flat_merged.dropna()\n",
    "skill_column_flat_merged = skill_column_flat_merged.explode(\"skills\")\n",
    "print(skill_column_flat_merged.head())\n"
   ],
   "metadata": {
    "collapsed": false,
    "pycharm": {
     "name": "#%%\n"
    }
   }
  },
  {
   "cell_type": "code",
   "execution_count": null,
   "outputs": [],
   "source": [
    "skill_column_flat_merged_grouped = pandas.DataFrame(skill_column_flat_merged.groupby(\"skills\").sum())\n",
    "skill_column_flat_merged_grouped[\"total\"] = skill_column_flat_merged_grouped[\"junior\"] + \\\n",
    "                                            skill_column_flat_merged_grouped[\"medior\"] + \\\n",
    "                                            skill_column_flat_merged_grouped[\"senior\"]\n",
    "skill_column_flat_merged_grouped_top = skill_column_flat_merged_grouped.sort_values(by=\"total\", ascending=False).iloc[:20]"
   ],
   "metadata": {
    "collapsed": false,
    "pycharm": {
     "name": "#%%\n"
    }
   }
  },
  {
   "cell_type": "code",
   "execution_count": 2,
   "outputs": [
    {
     "ename": "NameError",
     "evalue": "name 'skill_column_flat_merged_grouped_top' is not defined",
     "output_type": "error",
     "traceback": [
      "\u001B[1;31m---------------------------------------------------------------------------\u001B[0m",
      "\u001B[1;31mNameError\u001B[0m                                 Traceback (most recent call last)",
      "Input \u001B[1;32mIn [2]\u001B[0m, in \u001B[0;36m<cell line: 1>\u001B[1;34m()\u001B[0m\n\u001B[1;32m----> 1\u001B[0m skill_column_flat_merged_grouped_top_tech \u001B[38;5;241m=\u001B[39m \u001B[43mskill_column_flat_merged_grouped_top\u001B[49m\u001B[38;5;241m.\u001B[39mreset_index(drop\u001B[38;5;241m=\u001B[39m\u001B[38;5;28;01mFalse\u001B[39;00m)\n\u001B[0;32m      2\u001B[0m skill_column_flat_merged_grouped_top_tech \u001B[38;5;241m=\u001B[39m skill_column_flat_merged_grouped_top_tech[\u001B[38;5;241m~\u001B[39mskill_column_flat_merged_grouped_top_tech[\u001B[38;5;124m\"\u001B[39m\u001B[38;5;124mskills\u001B[39m\u001B[38;5;124m\"\u001B[39m]\u001B[38;5;241m.\u001B[39misin([\u001B[38;5;124m\"\u001B[39m\u001B[38;5;124mProject Management\u001B[39m\u001B[38;5;124m\"\u001B[39m, \u001B[38;5;124m\"\u001B[39m\u001B[38;5;124mCommunication Skills\u001B[39m\u001B[38;5;124m\"\u001B[39m, \u001B[38;5;124m\"\u001B[39m\u001B[38;5;124mOnline Marketing\u001B[39m\u001B[38;5;124m\"\u001B[39m])]\n\u001B[0;32m      3\u001B[0m skill_column_flat_merged_grouped_top_tech \u001B[38;5;241m=\u001B[39m skill_column_flat_merged_grouped_top_tech\u001B[38;5;241m.\u001B[39mset_index(\u001B[38;5;124m\"\u001B[39m\u001B[38;5;124mskills\u001B[39m\u001B[38;5;124m\"\u001B[39m)\n",
      "\u001B[1;31mNameError\u001B[0m: name 'skill_column_flat_merged_grouped_top' is not defined"
     ]
    }
   ],
   "source": [
    "skill_column_flat_merged_grouped_top_tech = skill_column_flat_merged_grouped_top.reset_index(drop=False)\n",
    "skill_column_flat_merged_grouped_top_tech = skill_column_flat_merged_grouped_top_tech[~skill_column_flat_merged_grouped_top_tech[\"skills\"].isin([\"Project Management\", \"Communication Skills\", \"Online Marketing\"])]\n",
    "skill_column_flat_merged_grouped_top_tech = skill_column_flat_merged_grouped_top_tech.set_index(\"skills\")\n",
    "\n",
    "ax = skill_column_flat_merged_grouped_top_tech[[\"junior\", \"medior\", \"senior\"]].plot(kind=\"bar\")\n",
    "ax.set_xlabel('Required Skills')\n",
    "ax.set_ylabel('Count of Advertisements')\n",
    "ax.set_aspect(1/9)\n",
    "plt.savefig('foo.png', bbox_inches='tight')"
   ],
   "metadata": {
    "collapsed": false,
    "pycharm": {
     "name": "#%%\n"
    }
   }
  },
  {
   "cell_type": "code",
   "execution_count": null,
   "outputs": [],
   "source": [
    "benefits_column = skill_column_flat.explode(\"benefits\")\n",
    "benefits_column = benefits_column.replace({\"Homeoffice\": \"Work from home\", \"Přátelské prostředí\": \"Friendly env.\", \"Pružná pracovní doba\": \"Flexible work hours\", \"Skvělý tým profesionálů\": \"Great team\",\n",
    "                                           \"Kariérní růst\": \"Career growth\", \"Stabilní firma\": \"Stable company\", \"Občerstvení na pracovišti\": \"Refreshments\", \"Cyklisté vítáni\": \"Cycling-friendly\",\n",
    "                                           \"Čas na inovace\": \"Time for inovation\", \"Vzdělávací kurzy\": \"Education support\", \"Multisport karta\": \"Multisport card\", \"Originální kanceláře\": \"Unique offices\",\n",
    "                                           \"Dovolená navíc\": \"Additional holidays\", \"Finanční bonusy\": \"Financial bonuses\", \"Relaxační zóna\": \"Relaxing zone\"})\n",
    "benefits_column = pandas.DataFrame(benefits_column.groupby(\"benefits\").size())\n",
    "benefits_column[0] = benefits_column[0] / skill_column_flat.shape[0]\n",
    "benefits_column = benefits_column.sort_values(by=0, ascending=False).head(20)\n",
    "ax = benefits_column.plot(kind=\"bar\")\n",
    "ax.set_xlabel('Benefit')\n",
    "ax.set_ylabel('Count of Advertisements')\n",
    "ax.set_aspect(8)\n",
    "ax.get_legend().remove()\n",
    "plt.savefig('foo2.png', bbox_inches='tight')\n"
   ],
   "metadata": {
    "collapsed": false,
    "pycharm": {
     "name": "#%%\n"
    }
   }
  },
  {
   "cell_type": "code",
   "execution_count": null,
   "outputs": [],
   "source": [
    "suj_data_loader = data_loader.StartUpJobsDataLoader()\n",
    "suj_data_loader.load_detail_data(100)\n",
    "data = suj_data_loader.data\n",
    "\n",
    "technologies = data.explode(\"technologies\")[\"technologies\"].dropna()\n",
    "technologies\n"
   ],
   "metadata": {
    "collapsed": false,
    "pycharm": {
     "name": "#%%\n"
    }
   }
  }
 ],
 "metadata": {
  "kernelspec": {
   "display_name": "Python 3",
   "language": "python",
   "name": "python3"
  },
  "language_info": {
   "codemirror_mode": {
    "name": "ipython",
    "version": 2
   },
   "file_extension": ".py",
   "mimetype": "text/x-python",
   "name": "python",
   "nbconvert_exporter": "python",
   "pygments_lexer": "ipython2",
   "version": "2.7.6"
  }
 },
 "nbformat": 4,
 "nbformat_minor": 0
}